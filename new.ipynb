{
  "nbformat": 4,
  "nbformat_minor": 0,
  "metadata": {
    "colab": {
      "provenance": []
    },
    "kernelspec": {
      "name": "python3",
      "display_name": "Python 3"
    },
    "language_info": {
      "name": "python"
    }
  },
  "cells": [
    {
      "cell_type": "code",
      "execution_count": null,
      "metadata": {
        "id": "PApbwpfUxnIB"
      },
      "outputs": [],
      "source": [
        "!pip install -q imbalanced-learn scikit-learn pandas numpy matplotlib seaborn\n"
      ]
    },
    {
      "cell_type": "code",
      "source": [
        "import pandas as pd\n",
        "import numpy as np\n",
        "import matplotlib.pyplot as plt\n",
        "import seaborn as sns\n",
        "from sklearn.model_selection import train_test_split\n",
        "from sklearn.preprocessing import LabelEncoder, StandardScaler\n",
        "from sklearn.ensemble import RandomForestClassifier\n",
        "from sklearn.metrics import precision_score, recall_score, f1_score, accuracy_score, confusion_matrix\n",
        "from sklearn.metrics import mean_absolute_error, mean_squared_error\n",
        "from imblearn.over_sampling import SMOTE\n"
      ],
      "metadata": {
        "id": "rxUtQnP6xvQ9"
      },
      "execution_count": null,
      "outputs": []
    },
    {
      "cell_type": "code",
      "source": [
        "file_path = \"/content/large_tree_replacement_data.csv\"  # Update with your file path\n",
        "\n",
        "df = pd.read_csv(file_path)"
      ],
      "metadata": {
        "id": "FXBDdKfLxy7Y"
      },
      "execution_count": null,
      "outputs": []
    },
    {
      "cell_type": "code",
      "source": [
        "df.info()\n",
        "print(df.head())"
      ],
      "metadata": {
        "colab": {
          "base_uri": "https://localhost:8080/"
        },
        "id": "W5F7_eUSx5ga",
        "outputId": "a3481495-274d-41c4-fecc-a0e7ddd423ad"
      },
      "execution_count": null,
      "outputs": [
        {
          "output_type": "stream",
          "name": "stdout",
          "text": [
            "<class 'pandas.core.frame.DataFrame'>\n",
            "RangeIndex: 5000 entries, 0 to 4999\n",
            "Data columns (total 10 columns):\n",
            " #   Column                       Non-Null Count  Dtype  \n",
            "---  ------                       --------------  -----  \n",
            " 0   Location                     5000 non-null   object \n",
            " 1   Trees Lost                   5000 non-null   int64  \n",
            " 2   Climate                      5000 non-null   object \n",
            " 3   Latitude                     5000 non-null   float64\n",
            " 4   Longitude                    5000 non-null   float64\n",
            " 5   Recommended Tree             5000 non-null   object \n",
            " 6   Trees to Plant               5000 non-null   int64  \n",
            " 7   Carbon Absorption (kg/year)  5000 non-null   int64  \n",
            " 8   Average Temperature (°C)     5000 non-null   float64\n",
            " 9   Average Rainfall (mm/year)   5000 non-null   int64  \n",
            "dtypes: float64(3), int64(4), object(3)\n",
            "memory usage: 390.8+ KB\n",
            "            Location  Trees Lost        Climate  Latitude  Longitude  \\\n",
            "0            Beijing         822    Continental  -18.7657  -114.2396   \n",
            "1             London         221  Mediterranean   16.4600   -43.0516   \n",
            "2  Amazon Rainforest         694      Temperate   11.2770    93.7962   \n",
            "3             Sydney         390    Continental   10.3142   -84.7747   \n",
            "4             London         167      Temperate  -17.4676   124.6974   \n",
            "\n",
            "  Recommended Tree  Trees to Plant  Carbon Absorption (kg/year)  \\\n",
            "0         Mangrove            1109                           24   \n",
            "1              Oak             319                           47   \n",
            "2              Oak             839                           37   \n",
            "3             Teak             649                           56   \n",
            "4          Redwood             432                           30   \n",
            "\n",
            "   Average Temperature (°C)  Average Rainfall (mm/year)  \n",
            "0                  9.430534                         817  \n",
            "1                 13.018684                        2676  \n",
            "2                  9.435150                        2973  \n",
            "3                  0.556415                        1341  \n",
            "4                 37.327784                        2013  \n"
          ]
        }
      ]
    },
    {
      "cell_type": "code",
      "source": [
        "df = df.dropna()"
      ],
      "metadata": {
        "id": "FhmTs7tlx78c"
      },
      "execution_count": null,
      "outputs": []
    },
    {
      "cell_type": "code",
      "source": [
        "categorical_cols = df.select_dtypes(include=['object']).columns.tolist()\n",
        "print(\"Categorical columns detected:\", categorical_cols)"
      ],
      "metadata": {
        "colab": {
          "base_uri": "https://localhost:8080/"
        },
        "id": "pHGKmbmFzv2V",
        "outputId": "b7101241-d4eb-48a3-8373-bec52cd5fade"
      },
      "execution_count": null,
      "outputs": [
        {
          "output_type": "stream",
          "name": "stdout",
          "text": [
            "Categorical columns detected: ['Location']\n"
          ]
        }
      ]
    },
    {
      "cell_type": "code",
      "source": [
        "non_numeric_cols = X_train.select_dtypes(include=['object']).columns.tolist()\n",
        "print(\"Non-numeric columns:\", non_numeric_cols)"
      ],
      "metadata": {
        "colab": {
          "base_uri": "https://localhost:8080/"
        },
        "id": "yeHxcwPI2Xwa",
        "outputId": "ca909bf1-cc54-43f3-c63d-7867dbed82b6"
      },
      "execution_count": null,
      "outputs": [
        {
          "output_type": "stream",
          "name": "stdout",
          "text": [
            "Non-numeric columns: ['Location']\n"
          ]
        }
      ]
    },
    {
      "cell_type": "code",
      "source": [
        "le = LabelEncoder()\n",
        "X_train['Location'] = le.fit_transform(X_train['Location'].astype(str))"
      ],
      "metadata": {
        "id": "X2wTN5bq0QSK"
      },
      "execution_count": null,
      "outputs": []
    },
    {
      "cell_type": "code",
      "source": [
        "X = df.drop(columns=[\"Recommended Tree\", \"Trees to Plant\"])\n",
        "y1 = df[\"Recommended Tree\"]"
      ],
      "metadata": {
        "id": "qw19QU9f0Sy2"
      },
      "execution_count": null,
      "outputs": []
    },
    {
      "cell_type": "code",
      "source": [
        "X_train, X_test, y1_train, y1_test = train_test_split(X, y1, test_size=0.2, random_state=42)\n",
        "X_train, X_test, y2_train, y2_test = train_test_split(X, y2, test_size=0.2, random_state=42)"
      ],
      "metadata": {
        "id": "WLbsznoz3S46"
      },
      "execution_count": null,
      "outputs": []
    },
    {
      "cell_type": "code",
      "source": [
        "from imblearn.over_sampling import SMOTE\n",
        "\n",
        "smote = SMOTE()\n",
        "X_train_balanced, y1_train_balanced = smote.fit_resample(X_train, y1_train)"
      ],
      "metadata": {
        "id": "AlBy9cQa1r4o"
      },
      "execution_count": null,
      "outputs": []
    },
    {
      "cell_type": "code",
      "source": [
        "scaler = StandardScaler()\n",
        "X_train_balanced = scaler.fit_transform(X_train_balanced)\n",
        "X_test = scaler.transform(X_test)\n"
      ],
      "metadata": {
        "id": "UYBItCz01udN"
      },
      "execution_count": null,
      "outputs": []
    },
    {
      "cell_type": "code",
      "source": [
        "rf_classifier = RandomForestClassifier(n_estimators=100, random_state=42)\n",
        "rf_classifier.fit(X_train_balanced, y1_train_balanced)\n",
        "y1_pred = rf_classifier.predict(X_test)\n"
      ],
      "metadata": {
        "id": "5GGGljop3j-v"
      },
      "execution_count": null,
      "outputs": []
    },
    {
      "cell_type": "code",
      "source": [
        "from sklearn.ensemble import RandomForestRegressor\n",
        "rf_regressor = RandomForestRegressor(n_estimators=100, random_state=42)\n",
        "rf_regressor.fit(X_train, y2_train)\n",
        "y2_pred = rf_regressor.predict(X_test)"
      ],
      "metadata": {
        "colab": {
          "base_uri": "https://localhost:8080/"
        },
        "id": "yIwWkIvz3mEN",
        "outputId": "8127bee9-16c8-41fc-c31b-f40814444e17"
      },
      "execution_count": null,
      "outputs": [
        {
          "output_type": "stream",
          "name": "stderr",
          "text": [
            "/usr/local/lib/python3.11/dist-packages/sklearn/utils/validation.py:2739: UserWarning: X does not have valid feature names, but RandomForestRegressor was fitted with feature names\n",
            "  warnings.warn(\n"
          ]
        }
      ]
    },
    {
      "cell_type": "code",
      "source": [
        "precision_y1 = precision_score(y1_test, y1_pred, average='weighted')\n",
        "recall_y1 = recall_score(y1_test, y1_pred, average='weighted')\n",
        "f1_y1 = f1_score(y1_test, y1_pred, average='weighted')\n",
        "accuracy_y1 = accuracy_score(y1_test, y1_pred)\n",
        "conf_matrix_y1 = confusion_matrix(y1_test, y1_pred)\n",
        "\n",
        "print(\"Metrics for 'Recommended Tree':\")\n",
        "print(f\"Precision: {precision_y1}\")\n",
        "print(f\"Recall: {recall_y1}\")\n",
        "print(f\"F1-score: {f1_y1}\")\n",
        "print(f\"Accuracy: {accuracy_y1}\")\n",
        "print(f\"Confusion Matrix:\\n{conf_matrix_y1}\\n\")\n"
      ],
      "metadata": {
        "colab": {
          "base_uri": "https://localhost:8080/"
        },
        "id": "fTvHSbkl3pG_",
        "outputId": "46218e55-22a0-4e47-8786-4319e6e869a6"
      },
      "execution_count": null,
      "outputs": [
        {
          "output_type": "stream",
          "name": "stdout",
          "text": [
            "Metrics for 'Recommended Tree':\n",
            "Precision: 0.10032819284657311\n",
            "Recall: 0.101\n",
            "F1-score: 0.1001393542225218\n",
            "Accuracy: 0.101\n",
            "Confusion Matrix:\n",
            "[[11  4 13 11 12  6 12  9 20  1]\n",
            " [11 14 10 13  7 15 11  8  6  5]\n",
            " [ 9  8 13 11 10 11  8  7  3 10]\n",
            " [10 12 11 10 11  8  9 12  5 14]\n",
            " [22 14 13  8 12 17  7  8 12  9]\n",
            " [12 12 12 11  9 13  9 11 12 10]\n",
            " [11 12  8  8 10  5  5  8  7 10]\n",
            " [ 9 12 12  4 12  7  6 13 10 11]\n",
            " [ 9 11 11 12  9 10  9  6  5  8]\n",
            " [17 14 11 11 11  9  6 11 11  5]]\n",
            "\n"
          ]
        }
      ]
    },
    {
      "cell_type": "code",
      "source": [],
      "metadata": {
        "id": "6K0j9tDN3vhk"
      },
      "execution_count": null,
      "outputs": []
    }
  ]
}